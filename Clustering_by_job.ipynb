{
  "nbformat": 4,
  "nbformat_minor": 0,
  "metadata": {
    "colab": {
      "provenance": [],
      "authorship_tag": "ABX9TyMMeb8nfYu4JD+eJiwDcEgL"
    },
    "kernelspec": {
      "name": "python3",
      "display_name": "Python 3"
    },
    "language_info": {
      "name": "python"
    }
  },
  "cells": [
    {
      "cell_type": "code",
      "execution_count": 3,
      "metadata": {
        "colab": {
          "base_uri": "https://localhost:8080/",
          "height": 511
        },
        "id": "sF2CGvxf0MiJ",
        "outputId": "02e731d9-4717-4cd1-81f4-8a8d69b14472"
      },
      "outputs": [
        {
          "output_type": "stream",
          "name": "stdout",
          "text": [
            "[[0. 2. 4. ... 0. 2. 4.]\n",
            " [2. 0. 2. ... 2. 0. 2.]\n",
            " [4. 2. 0. ... 4. 2. 0.]\n",
            " ...\n",
            " [0. 2. 4. ... 0. 2. 4.]\n",
            " [2. 0. 2. ... 2. 0. 2.]\n",
            " [4. 2. 0. ... 4. 2. 0.]]\n"
          ]
        },
        {
          "output_type": "stream",
          "name": "stderr",
          "text": [
            "/usr/local/lib/python3.8/dist-packages/sklearn/manifold/_t_sne.py:780: FutureWarning: The default initialization in TSNE will change from 'random' to 'pca' in 1.2.\n",
            "  warnings.warn(\n",
            "/usr/local/lib/python3.8/dist-packages/sklearn/manifold/_t_sne.py:790: FutureWarning: The default learning rate in TSNE will change from 200.0 to 'auto' in 1.2.\n",
            "  warnings.warn(\n"
          ]
        },
        {
          "output_type": "display_data",
          "data": {
            "text/plain": [
              "<Figure size 432x360 with 1 Axes>"
            ],
            "image/png": "[encoded data removed]"
          },
          "metadata": {
            "needs_background": "light"
          }
        }
      ],
      "source": [
        "import pandas as pd\n",
        "import numpy as np\n",
        "\n",
        "url = 'https://raw.githubusercontent.com/ISwifton/Clustering-of-sociological-data/main/data_job.csv'\n",
        "jobs_rawdata=pd.read_csv(url)\n",
        "jobs=jobs_rawdata.to_numpy()\n",
        "\n",
        "dim = len(jobs)\n",
        "Jobs_final=np.zeros((dim,dim))\n",
        "\n",
        "# Compute pairwise distance matrix (Job)\n",
        "for i in range(dim):\n",
        "  for j in range(dim):\n",
        "   Jobs_final[i][j]=(sum(abs(jobs[i]-jobs[j])))\n",
        "\n",
        "print(Jobs_final)\n",
        "\n",
        "# Make clustering\n",
        "from sklearn.manifold import TSNE\n",
        "from sklearn.cluster import KMeans\n",
        "Jobs_tsne = TSNE(n_components=2, random_state=0)\n",
        "Jobs_kmns = KMeans(n_clusters=5).fit(Jobs_final)\n",
        "\n",
        "Jobs_2d = Jobs_tsne.fit_transform(Jobs_final)\n",
        "Jobs_y=Jobs_kmns.labels_\n",
        "\n",
        "Jobs_target_ids = range(len(Jobs_y))\n",
        "\n",
        "# Visualize clustering\n",
        "from matplotlib import pyplot as plt\n",
        "plt.figure(figsize=(6, 5))\n",
        "Jobs_colors = 'r', 'g', 'b', 'c', 'm'\n",
        "for Jobs_i, Jobs_c, Jobs_label in zip(Jobs_target_ids, Jobs_colors, Jobs_y):\n",
        "    plt.scatter(Jobs_2d[Jobs_y == Jobs_i, 0], Jobs_2d[Jobs_y == Jobs_i, 1], c=Jobs_c, label=Jobs_label)\n",
        "plt.legend()\n",
        "plt.show()"
      ]
    }
  ]
}