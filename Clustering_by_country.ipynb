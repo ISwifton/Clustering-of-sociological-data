{
  "nbformat": 4,
  "nbformat_minor": 0,
  "metadata": {
    "colab": {
      "provenance": [],
      "authorship_tag": "ABX9TyNHSumdqp+tSt13PSpeEmdw"
    },
    "kernelspec": {
      "name": "python3",
      "display_name": "Python 3"
    },
    "language_info": {
      "name": "python"
    }
  },
  "cells": [
    {
      "cell_type": "code",
      "execution_count": 1,
      "metadata": {
        "colab": {
          "base_uri": "https://localhost:8080/",
          "height": 566
        },
        "id": "sF2CGvxf0MiJ",
        "outputId": "3f9de907-2bb3-4f1a-c94a-a0cd7f792442"
      },
      "outputs": [
        {
          "output_type": "stream",
          "name": "stderr",
          "text": [
            "/usr/local/lib/python3.8/dist-packages/pandas/core/indexing.py:1684: PerformanceWarning: DataFrame is highly fragmented.  This is usually the result of calling `frame.insert` many times, which has poor performance.  Consider joining all columns at once using pd.concat(axis=1) instead.  To get a de-fragmented frame, use `newframe = frame.copy()`\n",
            "  self.obj[key] = infer_fill_value(value)\n"
          ]
        },
        {
          "output_type": "stream",
          "name": "stdout",
          "text": [
            "[[0. 1. 1. ... 1. 1. 1.]\n",
            " [1. 0. 1. ... 0. 0. 1.]\n",
            " [1. 1. 0. ... 1. 1. 1.]\n",
            " ...\n",
            " [1. 0. 1. ... 0. 0. 1.]\n",
            " [1. 0. 1. ... 0. 0. 1.]\n",
            " [1. 1. 1. ... 1. 1. 0.]]\n"
          ]
        },
        {
          "output_type": "stream",
          "name": "stderr",
          "text": [
            "/usr/local/lib/python3.8/dist-packages/sklearn/manifold/_t_sne.py:780: FutureWarning: The default initialization in TSNE will change from 'random' to 'pca' in 1.2.\n",
            "  warnings.warn(\n",
            "/usr/local/lib/python3.8/dist-packages/sklearn/manifold/_t_sne.py:790: FutureWarning: The default learning rate in TSNE will change from 200.0 to 'auto' in 1.2.\n",
            "  warnings.warn(\n"
          ]
        },
        {
          "output_type": "display_data",
          "data": {
            "text/plain": [
              "<Figure size 432x360 with 1 Axes>"
            ],
            "image/png": "[encoded data removed]"
          },
          "metadata": {
            "needs_background": "light"
          }
        }
      ],
      "source": [
        "import pandas as pd\n",
        "import numpy as np\n",
        "countries_final = pd.DataFrame()\n",
        "\n",
        "url = 'https://raw.githubusercontent.com/ISwifton/Clustering-of-sociological-data/main/data_countries_2.csv'\n",
        "countries_rawdata=pd.read_csv(url)\n",
        "countries=countries_rawdata.to_numpy()\n",
        "# Compute pairwise distance matrix (by country)\n",
        "\n",
        "for i in range(len(countries)):\n",
        "  for j in range(len(countries)):\n",
        "    if np.array_equal(countries[i], countries[j]):  # compare rows\n",
        "      countries_final.loc[i, j] = int(0) # set 0 in the new data frame cell if two raws with persons' features are equal\n",
        "    else:\n",
        "         countries_final.loc[i, j] = int(1) # otherwise, we put 1\n",
        "\n",
        "print(countries_final.to_numpy()) \n",
        "\n",
        "# make TSNE clustering\n",
        "from sklearn.manifold import TSNE\n",
        "from sklearn.cluster import KMeans\n",
        "Coutries_tsne = TSNE(n_components=2, random_state=0)\n",
        "Coutries_kmns = KMeans(n_clusters=5).fit(countries_final)\n",
        "\n",
        "Coutries_2d = Coutries_tsne.fit_transform(countries_final)\n",
        "Coutries_y=Coutries_kmns.labels_\n",
        "Coutries_target_ids = range(len(Coutries_y))\n",
        "\n",
        "# visualize clusters\n",
        "from matplotlib import pyplot as plt\n",
        "plt.figure(figsize=(6, 5))\n",
        "Coutries_colors = 'r', 'g', 'b', 'c', 'm'\n",
        "for Coutries_i, Coutries_c, Coutries_label in zip(Coutries_target_ids, Coutries_colors, Coutries_y):\n",
        "    plt.scatter(Coutries_2d[Coutries_y == Coutries_i, 0], Coutries_2d[Coutries_y == Coutries_i, 1], c=Coutries_c, label=Coutries_label)\n",
        "plt.legend()\n",
        "plt.show()"
      ]
    }
  ]
}