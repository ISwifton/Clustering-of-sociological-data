{
  "nbformat": 4,
  "nbformat_minor": 0,
  "metadata": {
    "colab": {
      "provenance": [],
      "authorship_tag": "ABX9TyPJQFF2zue2zh0xcrie683a"
    },
    "kernelspec": {
      "name": "python3",
      "display_name": "Python 3"
    },
    "language_info": {
      "name": "python"
    }
  },
  "cells": [
    {
      "cell_type": "code",
      "execution_count": 1,
      "metadata": {
        "colab": {
          "base_uri": "https://localhost:8080/"
        },
        "id": "PfW0w1e8aMt_",
        "outputId": "acfb358c-b56b-47a9-eebb-115b017f60bd"
      },
      "outputs": [
        {
          "output_type": "stream",
          "name": "stdout",
          "text": [
            "countries  specializations  degrees  jobs\n",
            "30         100              1        1       4\n",
            "dtype: int64\n",
            "countries  specializations  degrees  jobs\n",
            "20         300              2        0       2\n",
            "dtype: int64\n",
            "countries  specializations  degrees  jobs\n",
            "30         300              3        0       2\n",
            "dtype: int64\n",
            "countries  specializations  degrees  jobs\n",
            "10         100              3        1       1\n",
            "dtype: int64\n"
          ]
        }
      ],
      "source": [
        "import pandas as pd\n",
        "\n",
        "url = 'https://raw.githubusercontent.com/ISwifton/Clustering-of-sociological-data/main/raw_data_3.csv'\n",
        "rawdata=pd.read_csv(url)\n",
        "\n",
        "# Compute the portraits of people with the most frequent combinations of features\n",
        "# The columns in each row are the features (countries, specializations, academic degrees, jobs). The last value in each raw is the frequency of the combination in the data set.\n",
        "\n",
        "max_frequency = rawdata.value_counts().nlargest(n=1).values[0]\n",
        "for i in range(0,max_frequency):\n",
        "  print(rawdata.value_counts().iloc[[i]])"
      ]
    }
  ]
}