{
  "nbformat": 4,
  "nbformat_minor": 0,
  "metadata": {
    "colab": {
      "provenance": [],
      "authorship_tag": "ABX9TyPOCDp2b1CxA8dgCr5Vcysm"
    },
    "kernelspec": {
      "name": "python3",
      "display_name": "Python 3"
    },
    "language_info": {
      "name": "python"
    }
  },
  "cells": [
    {
      "cell_type": "code",
      "execution_count": 7,
      "metadata": {
        "colab": {
          "base_uri": "https://localhost:8080/",
          "height": 511
        },
        "id": "sF2CGvxf0MiJ",
        "outputId": "05df1dcb-80ec-4fd8-a64a-ae3647bb2852"
      },
      "outputs": [
        {
          "output_type": "stream",
          "name": "stdout",
          "text": [
            "[[ 0.  8.  8. ...  5.  7. 10.]\n",
            " [ 8.  0.  8. ...  5.  7.  6.]\n",
            " [ 8.  8.  0. ...  9.  7.  4.]\n",
            " ...\n",
            " [ 5.  5.  9. ...  0.  8.  9.]\n",
            " [ 7.  7.  7. ...  8.  0.  5.]\n",
            " [10.  6.  4. ...  9.  5.  0.]]\n"
          ]
        },
        {
          "output_type": "stream",
          "name": "stderr",
          "text": [
            "/usr/local/lib/python3.8/dist-packages/sklearn/manifold/_t_sne.py:780: FutureWarning: The default initialization in TSNE will change from 'random' to 'pca' in 1.2.\n",
            "  warnings.warn(\n",
            "/usr/local/lib/python3.8/dist-packages/sklearn/manifold/_t_sne.py:790: FutureWarning: The default learning rate in TSNE will change from 200.0 to 'auto' in 1.2.\n",
            "  warnings.warn(\n"
          ]
        },
        {
          "output_type": "display_data",
          "data": {
            "text/plain": [
              "<Figure size 432x360 with 1 Axes>"
            ],
            "image/png": "[encoded data removed]"
          },
          "metadata": {
            "needs_background": "light"
          }
        }
      ],
      "source": [
        "import pandas as pd\n",
        "import numpy as np\n",
        "\n",
        "url = 'https://raw.githubusercontent.com/ISwifton/Clustering-of-sociological-data/main/all_data_200.csv'\n",
        "all_rawdata=pd.read_csv(url)\n",
        "All=all_rawdata.to_numpy()\n",
        "\n",
        "dim = len(All)\n",
        "All_final=np.zeros((dim,dim))\n",
        "\n",
        "# Compute pairwise distance matrix (Job)\n",
        "for i in range(dim):\n",
        "  for j in range(dim):\n",
        "   All_final[i][j]=(sum(abs(All[i]-All[j])))\n",
        "\n",
        "print(All_final)\n",
        "\n",
        "\n",
        "# Make clustering\n",
        "from sklearn.manifold import TSNE\n",
        "from sklearn.cluster import KMeans\n",
        "All_tsne = TSNE(n_components=2, random_state=0)\n",
        "All_kmns = KMeans(n_clusters=10).fit(All_final)\n",
        "\n",
        "All_2d = All_tsne.fit_transform(All_final)\n",
        "All_y=All_kmns.labels_\n",
        "\n",
        "All_target_ids = range(len(All_y))\n",
        "\n",
        "# Visualize clustering\n",
        "from matplotlib import pyplot as plt\n",
        "plt.figure(figsize=(6, 5))\n",
        "All_colors = 'r', 'g', 'b', 'c', 'm', 'y', 'k', 'w', 'orange', 'purple'\n",
        "for All_i, All_c, All_label in zip(All_target_ids, All_colors, Jobs_y):\n",
        "    plt.scatter(All_2d[All_y == All_i, 0], All_2d[All_y == All_i, 1], c=All_c, label=All_label)\n",
        "plt.legend()\n",
        "plt.show()"
      ]
    }
  ]
}